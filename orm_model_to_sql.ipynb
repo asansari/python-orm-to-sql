{
 "cells": [
  {
   "cell_type": "code",
   "execution_count": 8,
   "metadata": {},
   "outputs": [],
   "source": [
    "\"\"\"\n",
    "https://stackoverflow.com/questions/39955521/sqlalchemy-existing-database-query\n",
    "https://stackoverflow.com/questions/4617291/how-do-i-get-a-raw-compiled-sql-query-from-a-sqlalchemy-expression\n",
    "\"\"\";"
   ]
  },
  {
   "cell_type": "code",
   "execution_count": 9,
   "metadata": {},
   "outputs": [],
   "source": [
    "from sqlalchemy import func\n",
    "from sqlalchemy import or_\n",
    "from sqlalchemy import and_\n",
    "\n",
    "from sqlalchemy import create_engine\n",
    "from sqlalchemy import Column, Date, Integer, String, ForeignKey\n",
    "\n",
    "from sqlalchemy.ext.automap import automap_base\n",
    "from sqlalchemy.ext.declarative import declarative_base\n",
    "from sqlalchemy.orm import Session, scoped_session, sessionmaker"
   ]
  },
  {
   "cell_type": "code",
   "execution_count": 10,
   "metadata": {},
   "outputs": [],
   "source": [
    "Base = declarative_base()\n",
    "DBSession = scoped_session(sessionmaker())"
   ]
  },
  {
   "cell_type": "code",
   "execution_count": 11,
   "metadata": {},
   "outputs": [],
   "source": [
    "engine = create_engine(\"sqlite:///inventory.db\", echo=True)"
   ]
  },
  {
   "cell_type": "code",
   "execution_count": 12,
   "metadata": {},
   "outputs": [
    {
     "name": "stdout",
     "output_type": "stream",
     "text": [
      "2021-07-29 23:00:25,765 INFO sqlalchemy.engine.base.Engine SELECT CAST('test plain returns' AS VARCHAR(60)) AS anon_1\n",
      "2021-07-29 23:00:25,766 INFO sqlalchemy.engine.base.Engine ()\n",
      "2021-07-29 23:00:25,768 INFO sqlalchemy.engine.base.Engine SELECT CAST('test unicode returns' AS VARCHAR(60)) AS anon_1\n",
      "2021-07-29 23:00:25,769 INFO sqlalchemy.engine.base.Engine ()\n",
      "2021-07-29 23:00:25,770 INFO sqlalchemy.engine.base.Engine SELECT name FROM sqlite_master WHERE type='table' ORDER BY name\n",
      "2021-07-29 23:00:25,771 INFO sqlalchemy.engine.base.Engine ()\n",
      "2021-07-29 23:00:25,774 INFO sqlalchemy.engine.base.Engine PRAGMA main.table_info(\"inventory\")\n",
      "2021-07-29 23:00:25,776 INFO sqlalchemy.engine.base.Engine ()\n",
      "2021-07-29 23:00:25,777 INFO sqlalchemy.engine.base.Engine SELECT sql FROM  (SELECT * FROM sqlite_master UNION ALL   SELECT * FROM sqlite_temp_master) WHERE name = 'inventory' AND type = 'table'\n",
      "2021-07-29 23:00:25,781 INFO sqlalchemy.engine.base.Engine ()\n",
      "2021-07-29 23:00:25,783 INFO sqlalchemy.engine.base.Engine PRAGMA main.foreign_key_list(\"inventory\")\n",
      "2021-07-29 23:00:25,785 INFO sqlalchemy.engine.base.Engine ()\n",
      "2021-07-29 23:00:25,787 INFO sqlalchemy.engine.base.Engine PRAGMA temp.foreign_key_list(\"inventory\")\n",
      "2021-07-29 23:00:25,788 INFO sqlalchemy.engine.base.Engine ()\n",
      "2021-07-29 23:00:25,789 INFO sqlalchemy.engine.base.Engine SELECT sql FROM  (SELECT * FROM sqlite_master UNION ALL   SELECT * FROM sqlite_temp_master) WHERE name = 'inventory' AND type = 'table'\n",
      "2021-07-29 23:00:25,790 INFO sqlalchemy.engine.base.Engine ()\n",
      "2021-07-29 23:00:25,793 INFO sqlalchemy.engine.base.Engine PRAGMA main.index_list(\"inventory\")\n",
      "2021-07-29 23:00:25,793 INFO sqlalchemy.engine.base.Engine ()\n",
      "2021-07-29 23:00:25,796 INFO sqlalchemy.engine.base.Engine PRAGMA temp.index_list(\"inventory\")\n",
      "2021-07-29 23:00:25,798 INFO sqlalchemy.engine.base.Engine ()\n",
      "2021-07-29 23:00:25,799 INFO sqlalchemy.engine.base.Engine PRAGMA main.index_list(\"inventory\")\n",
      "2021-07-29 23:00:25,800 INFO sqlalchemy.engine.base.Engine ()\n",
      "2021-07-29 23:00:25,803 INFO sqlalchemy.engine.base.Engine PRAGMA temp.index_list(\"inventory\")\n",
      "2021-07-29 23:00:25,804 INFO sqlalchemy.engine.base.Engine ()\n",
      "2021-07-29 23:00:25,805 INFO sqlalchemy.engine.base.Engine SELECT sql FROM  (SELECT * FROM sqlite_master UNION ALL   SELECT * FROM sqlite_temp_master) WHERE name = 'inventory' AND type = 'table'\n",
      "2021-07-29 23:00:25,806 INFO sqlalchemy.engine.base.Engine ()\n"
     ]
    }
   ],
   "source": [
    "Base = automap_base()\n",
    "Base.prepare(engine, reflect=True);\n",
    "\n",
    "Inventory = Base.classes.inventory\n",
    "session = Session(engine)"
   ]
  },
  {
   "cell_type": "code",
   "execution_count": 13,
   "metadata": {},
   "outputs": [],
   "source": [
    "q = (DBSession\n",
    "     .query(Inventory.id, Inventory.sku, func.count(Inventory.pprice).label(\"value0\"))\n",
    "     .filter(and_(Inventory.id.in_((1, 2, 3, 4, 5)), ~Inventory.id.in_((6, 7, 8, 9)))) \n",
    "     .group_by(Inventory.id, Inventory.sku)\n",
    "     .order_by(Inventory.id, Inventory.sku)\n",
    "    )"
   ]
  },
  {
   "cell_type": "code",
   "execution_count": 14,
   "metadata": {},
   "outputs": [
    {
     "data": {
      "text/plain": [
       "'SELECT inventory.id, inventory.sku, count(inventory.pprice) AS value0 \\nFROM inventory \\nWHERE inventory.id IN (1, 2, 3, 4, 5) AND inventory.id NOT IN (6, 7, 8, 9) GROUP BY inventory.id, inventory.sku ORDER BY inventory.id, inventory.sku'"
      ]
     },
     "execution_count": 14,
     "metadata": {},
     "output_type": "execute_result"
    }
   ],
   "source": [
    "str(q.statement.compile(compile_kwargs={\"literal_binds\": True}))"
   ]
  },
  {
   "cell_type": "code",
   "execution_count": null,
   "metadata": {},
   "outputs": [],
   "source": []
  }
 ],
 "metadata": {
  "kernelspec": {
   "display_name": "Python 3",
   "language": "python",
   "name": "python3"
  },
  "language_info": {
   "codemirror_mode": {
    "name": "ipython",
    "version": 3
   },
   "file_extension": ".py",
   "mimetype": "text/x-python",
   "name": "python",
   "nbconvert_exporter": "python",
   "pygments_lexer": "ipython3",
   "version": "3.7.4"
  }
 },
 "nbformat": 4,
 "nbformat_minor": 4
}
